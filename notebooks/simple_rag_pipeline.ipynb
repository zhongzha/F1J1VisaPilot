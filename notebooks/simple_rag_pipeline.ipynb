{
 "cells": [
  {
   "cell_type": "markdown",
   "id": "392e02be",
   "metadata": {},
   "source": [
    "# Simple RAG Pipeline for STEM OPT Document\n",
    "This notebook demonstrates a simple Retrieval-Augmented Generation (RAG) workflow using LangChain, FAISS, and LLMs to answer questions about the STEM OPT extension process. Each section is annotated for clarity."
   ]
  },
  {
   "cell_type": "code",
   "execution_count": 35,
   "id": "8e238138",
   "metadata": {},
   "outputs": [],
   "source": [
    "from bs4 import BeautifulSoup\n",
    "\n",
    "from langchain.docstore.document import Document\n",
    "from langchain_huggingface import HuggingFaceEmbeddings\n",
    "from langchain.vectorstores import FAISS\n",
    "from langchain.prompts import PromptTemplate\n",
    "from langchain.chains import LLMChain\n",
    "from langchain_ollama import OllamaLLM\n",
    "from langchain_openai import ChatOpenAI\n",
    "\n",
    "from dotenv import load_dotenv\n",
    "import os\n"
   ]
  },
  {
   "cell_type": "markdown",
   "id": "4adf5b17",
   "metadata": {},
   "source": [
    "## Load and Parse the STEM OPT HTML Document\n",
    "Read the USCIS STEM OPT extension HTML file and extract its content using BeautifulSoup for further processing."
   ]
  },
  {
   "cell_type": "code",
   "execution_count": 36,
   "id": "b4b4bd69",
   "metadata": {},
   "outputs": [],
   "source": [
    "\n",
    "with open(\"../data/documents/Optional Practical Training Extension for STEM Students (STEM OPT) _ USCIS.html\", \"r\", encoding=\"utf-8\") as f:\n",
    "    html = f.read()\n",
    "\n",
    "# Parse HTML and extract text\n",
    "soup = BeautifulSoup(html, \"html.parser\")"
   ]
  },
  {
   "cell_type": "markdown",
   "id": "84daab46",
   "metadata": {},
   "source": [
    "### Extract Relevant Content\n",
    "Identify and extract the main content panels from the HTML using their CSS class."
   ]
  },
  {
   "cell_type": "code",
   "execution_count": 37,
   "id": "4a56062b",
   "metadata": {},
   "outputs": [],
   "source": [
    "panels = soup.find_all(class_=\"accordion__panel\")"
   ]
  },
  {
   "cell_type": "code",
   "execution_count": 38,
   "id": "3bb2cbbe",
   "metadata": {},
   "outputs": [],
   "source": [
    "texts = [panel.get_text(separator=\"\\n\", strip=True) for panel in panels]\n",
    "combined_text = \"\\n\\n\".join(texts)"
   ]
  },
  {
   "cell_type": "markdown",
   "id": "f1a8f735",
   "metadata": {},
   "source": [
    "### Chunk the Extracted Text\n",
    "Split the combined text into smaller chunks to fit within the token limits of embedding models and LLMs."
   ]
  },
  {
   "cell_type": "code",
   "execution_count": 39,
   "id": "f94e0e16",
   "metadata": {},
   "outputs": [],
   "source": [
    "def chunk_text(text, max_tokens=500, separator=\"\\n\\n\"):\n",
    "    \n",
    "    # Split by paragraphs (double newlines)\n",
    "    paragraphs = text.split(separator)\n",
    "    print(paragraphs)\n",
    "    \n",
    "    chunks = []\n",
    "    current_chunk = \"\"\n",
    "\n",
    "    for para in paragraphs:\n",
    "        if len(current_chunk) + len(para) < max_tokens:\n",
    "            current_chunk += para + separator\n",
    "        else:\n",
    "            chunks.append(current_chunk.strip())\n",
    "            current_chunk = para + separator\n",
    "\n",
    "    if current_chunk:\n",
    "        chunks.append(current_chunk.strip())\n",
    "\n",
    "    return chunks"
   ]
  },
  {
   "cell_type": "code",
   "execution_count": 40,
   "id": "307589e0",
   "metadata": {},
   "outputs": [
    {
     "name": "stdout",
     "output_type": "stream",
     "text": [
      "['To qualify for the 24-month extension, you must:\\nHave been granted OPT and currently be in a valid period\\xa0of post-completion OPT;\\nHave earned a bachelor’s, master’s, or doctoral degree from a school that is accredited by a U.S. Department of Education-recognized accrediting agency and is certified by\\nthe Student and Exchange Visitor Program (SEVP)\\nat the time you submit your STEM OPT extension application.\\nNOTE: Previously obtained STEM degrees\\n: If you are an F-1 student participating in a 12-month period of post-completion OPT based on a non-STEM degree, you may be eligible to use a previous STEM degree from a U.S. institution of higher education to apply for a STEM OPT extension. You must have received both degrees from currently accredited and SEVP-certified institutions, and cannot have already received a STEM OPT extension based on this previous degree. The practical training opportunity also must be directly related to the previously obtained STEM degree.\\nFor example, if the student is currently participating in OPT based on a non-STEM\\xa0 degree, but previously received a bachelor’s degree in a degree program\\xa0 that appears on the current\\nDHS STEM Designated Degree Program List\\n, the student may be able to apply for a STEM OPT extension based on the bachelor’s degree as long as it is from an accredited U.S. college or university and the OPT employment opportunity is directly related to the bachelor’s STEM degree.\\nNOTE: STEM degrees you obtain in the future\\n: If you enroll in a new academic program in the future and earn another qualifying STEM degree at a higher educational level, you may be eligible for one additional 24-month STEM OPT extension.\\nFor example: If you receive a 24-month STEM OPT extension based on a qualifying bachelor’s degree \\xa0and you later earn a qualifying master’s degree, you may apply for an additional 24-month STEM OPT extension based on your master’s degree.\\nWork for an employer who meets all the requirements listed below in the STEM OPT Employer Responsibilities section; and\\nSubmit the\\nForm I-765, Application for Employment Authorization\\n, up to 90 days before your current OPT employment authorization expires, and within 60 days of the date your designated school official (DSO) enters the recommendation for OPT into your Student and Exchange Visitor Information System (SEVIS) record.', 'To apply for an extension, you must properly file:\\nForm I-765 with\\nThe correct application fee;\\nYour employer’s name as listed in E-Verify, and\\nYour employer’s E-Verify Company Identification Number or valid E-Verify Client Company Identification Number\\nForm I-20, Certificate of Eligibility for Nonimmigrant Student Status, endorsed by your DSO within the last 60 days; and\\nA copy of your STEM degree.\\nIf you file your STEM OPT extension application on time and your OPT period expires while your extension application is pending, we will automatically extend your employment authorization for 180 days.\\u202fThis automatic 180-day extension ceases once USCIS adjudicates your STEM OPT extension application.\\nF-1 students who have a pending STEM OPT extension application are not eligible for the increase of the automatic extension period under\\u202f8 CFR 274a.13(d)\\npublished\\non Dec.13, 2024, because the automatic extension period only applies to the categories listed in the chart on the\\nAutomatic Employment Authorization Document (EAD) Extension\\npage.', 'Student Reporting Responsibilities\\nIf you receive a STEM OPT extension, you must:\\nReport changes to the following information to your DSO within 10 days of the change, specifically:\\nYour legal name;\\nYour residential or mailing address;\\nYour email address;\\nYour employer’s name; and\\nYour employer’s address.\\nReport to your DSO every 6 months to confirm the information listed above, even if none of your information has changed.\\nFor more information, please refer to the\\nUSCIS Policy Manual\\nand the\\nDHS STEM OPT Hub\\n.\\nUnemployment during the OPT Period\\nYou may be unemployed during your OPT period for a limited number of days.\\nIf you received…\\nYou may be unemployed for…\\nFor a total of…(during the OPT period)\\nInitial post-completion OPT only\\nUp to 90 days\\n90 days\\n24-month extension\\nAn additional 60 days\\n150 days', 'If you are an employer who wants to provide a practical training opportunity to a STEM OPT student during their extension, you must:\\nBe enrolled in E-Verify, as evidenced by either a valid E-Verify company identification number or, if the employer is using an employer agent to create its E-Verify cases, a valid E-Verify client company identification number.\\nRemain a participant in good standing with E-Verify, as determined by USCIS.\\nHave a valid Employer Identification Number (EIN) issued by the IRS for tax purposes;\\nReport material changes of the STEM OPT student’s employment by submitting a modified Form I-983 to the DSO at the earliest available opportunity.\\nReport the STEM OPT student’s termination of employment or departure to the DSO within 5 business days.\\nImplement a formal training program to build on the student’s academic learning through practical experience; and\\nProvide an OPT opportunity that is commensurate with those of similarly situated U.S. workers in duties, hours, and compensation.\\nTerms and Conditions for Employer Participation\\nTo ensure the integrity of the program and provide safeguards for U.S. workers, any employer wishing to employ a student participating in the STEM OPT extension program must ensure that:\\nThe employer will have and maintain a bona fide employer-employee relationship with the student.\\nThe employer has sufficient resources and personnel available to provide appropriate training in connection with the specified opportunity at the location(s) specified in the Form I-983, Training Plan for STEM OPT Students.\\nThe STEM OPT student will not replace a full- or part-time, temporary or permanent U.S. worker; and\\nThe training opportunity will assist the student in attaining his or her training goals.\\nDHS may, at its discretion, conduct a\\nsite visit\\nof the employer to ensure that program requirements are being met, including that the employer possesses and maintains the ability, personnel, and resources to provide structured and guided work-based learning experiences consistent with the training plan.\\nThe Employer’s Training Obligation\\nAs noted above, to be eligible to employ a STEM OPT student, an employer must have and maintain a bona fide employer-employee relationship with the student. The employer must attest to this fact by signing the Form I-983, Training Plan for STEM OPT Students. To establish a bona fide relationship, the employer may not be the student’s “employer” in name only, nor may the student work for the employer on a “volunteer” basis. Moreover, the employer that signs the Form I-983 must be the same entity that provides the practical training experience to the student.\\nAn employer must have sufficient resources and trained or supervisory personnel available to provide appropriate training in connection with the specified training opportunity at the location(s) where the student’s practical training experience will take place, as specified in the Form I-983. The “personnel” who may provide and supervise the training experience may be either employees of the employer, or contractors who the employer has directly retained to provide services to the employer; they may not, however, be employees or contractors of the employer’s clients or customers. Additionally, under no circumstances would another F-1 student with OPT or a STEM OPT extension (who is undergoing training in their own right) be qualified to train another F-1 student with a STEM OPT extension.\\nWhile employers may rely on their existing training programs or policies to satisfy the requirements relating to performance evaluation and oversight and supervision, the student’s Training Plan must nevertheless be customized for the individual student. For instance, every Training Plan must describe the direct relationship between the STEM OPT opportunity and the student’s qualifying STEM degree, as well as the relationship between the STEM OPT opportunity and the student’s goals and objectives for work-based learning. Moreover, a STEM OPT employer may not assign, or otherwise delegate, its training responsibilities to a non-employer third party (such as a client/customer of the employer, employees of the client/customer, or contractors of the client/customer).\\nAs noted above, DHS, at its discretion, may conduct a site visit of any STEM OPT employer to ensure that the employer possesses and maintains the ability and resources to provide structured and guided work-based learning experiences consistent with the Form I-983. See 8 C.F.R. 214.2(f)(10)(ii)(C)(11). Consistent with this provision, during a site visit, DHS may verify that the employer that signs Form I-983 is the same entity that provides the practical training experience to the student and ensure compliance.\\xa0For ICE to effectively conduct these site visits as part of its oversight responsibilities, it is important that employers report any change in a student’s employment address. As indicated above, the employer and student must report such a material change by submitting a modified Form I-983 to the DSO at the earliest available opportunity.\\nThe Employer’s Training Obligation: Staffing and Temporary Agencies\\nStaffing and temporary agencies and consulting firms may seek to employ students under the STEM OPT program, but only if they will be the entity that provides the practical training experience to the student and they have and maintain a bona fide employer-employee relationship with the student. STEM OPT participants may engage in a training experience that takes place at a site other than the employer’s principal place of business as long as all of the training obligations are met, including that the employer has and maintains a bona fide employer-employee relationship with the student.\\xa0Certain types of arrangements, including multiple employer arrangements, sole proprietorships, employment through ‘‘temp’’ agencies, employment through consulting firm arrangements that provide labor for hire, and other similar relationships may not be able to demonstrate a bona fide employer-employee relationship and, therefore, may not meet the requirements of the STEM OPT extension.\\nAs part of the STEM OPT extension, employers must complete the appropriate parts of Form I-983, Training Plan for STEM OPT Students. In this form,\\xa0employers attest that:\\nThey have enough resources and trained personnel available to appropriately train the student;\\nThe student will not replace a full- or part-time, temporary or permanent U.S. worker; and\\nWorking for them will help the student attain their training objectives.\\nDHS will review on a case-by-case basis whether the student will be a bona fide employee of the employer signing the training plan, and verify that the employer that signs the training plan, is the same entity that employs the student and provides the practical training experience.\\nFor more information, please refer to the\\nUSCIS Policy Manual\\nand the\\nDHS STEM OPT Hub\\n.']\n"
     ]
    }
   ],
   "source": [
    "chunks = chunk_text(combined_text, max_tokens=200)  # adjust size as needed"
   ]
  },
  {
   "cell_type": "code",
   "execution_count": 41,
   "id": "c2170725",
   "metadata": {},
   "outputs": [
    {
     "name": "stdout",
     "output_type": "stream",
     "text": [
      "Created 5 chunks.\n"
     ]
    }
   ],
   "source": [
    "print(f\"Created {len(chunks)} chunks.\")"
   ]
  },
  {
   "cell_type": "markdown",
   "id": "1dcb66f0",
   "metadata": {},
   "source": [
    "### Create Document Objects\n",
    "Convert each text chunk into a LangChain `Document` object for downstream processing."
   ]
  },
  {
   "cell_type": "code",
   "execution_count": 42,
   "id": "6d2040f8",
   "metadata": {},
   "outputs": [],
   "source": [
    "documents = [Document(page_content=chunk) for chunk in chunks]"
   ]
  },
  {
   "cell_type": "markdown",
   "id": "b7c1ac83",
   "metadata": {},
   "source": [
    "### Embed Documents and Build Vector Store\n",
    "Generate embeddings for each document chunk and store them in a FAISS vector database for efficient retrieval."
   ]
  },
  {
   "cell_type": "code",
   "execution_count": 43,
   "id": "792c51f2",
   "metadata": {},
   "outputs": [],
   "source": [
    "embedding_model = HuggingFaceEmbeddings(model_name=\"multi-qa-MiniLM-L6-cos-v1\")"
   ]
  },
  {
   "cell_type": "code",
   "execution_count": 44,
   "id": "48adeae4",
   "metadata": {},
   "outputs": [],
   "source": [
    "vectorstore = FAISS.from_documents(documents, embedding_model)"
   ]
  },
  {
   "cell_type": "markdown",
   "id": "bb6fc378",
   "metadata": {},
   "source": [
    "### Retrieve Relevant Chunks for a Query\n",
    "Set up a retriever from the vector store and use it to fetch the most relevant document chunks for a sample user query."
   ]
  },
  {
   "cell_type": "code",
   "execution_count": 45,
   "id": "edd02a9a",
   "metadata": {},
   "outputs": [],
   "source": [
    "retriever = vectorstore.as_retriever()\n",
    "query = \"what's the process for applying OPT?\"\n"
   ]
  },
  {
   "cell_type": "code",
   "execution_count": 46,
   "id": "516e826d",
   "metadata": {},
   "outputs": [],
   "source": [
    "retrieved_docs = retriever.invoke(query)"
   ]
  },
  {
   "cell_type": "code",
   "execution_count": 47,
   "id": "d141d529",
   "metadata": {},
   "outputs": [
    {
     "name": "stdout",
     "output_type": "stream",
     "text": [
      "4 docs retrieved\n"
     ]
    }
   ],
   "source": [
    "print(f\"{len(retrieved_docs)} docs retrieved\")"
   ]
  },
  {
   "cell_type": "markdown",
   "id": "233947f8",
   "metadata": {},
   "source": [
    "### Prepare Retrieved Content for LLM\n",
    "Combine the retrieved document chunks into a single context string to be used as input for the language model."
   ]
  },
  {
   "cell_type": "code",
   "execution_count": 48,
   "id": "1824f359",
   "metadata": {},
   "outputs": [],
   "source": [
    "combined_docs_text = \"\\n\\n\".join([doc.page_content for doc in retrieved_docs])"
   ]
  },
  {
   "cell_type": "markdown",
   "id": "1d8650aa",
   "metadata": {},
   "source": [
    "### Construct the Prompt for the LLM\n",
    "Create a prompt template that provides the retrieved context and user query to the language model for answer generation."
   ]
  },
  {
   "cell_type": "code",
   "execution_count": 49,
   "id": "cb844a70",
   "metadata": {},
   "outputs": [],
   "source": [
    "prompt_template = \"\"\"\n",
    "You are an expert assistant. Use the context below to answer the user's question.\n",
    "Do NOT include any internal thoughts or explanations.\n",
    "\n",
    "Context:\n",
    "{documents}\n",
    "\n",
    "User Question:\n",
    "{query}\n",
    "\n",
    "Answer:\n",
    "\"\"\""
   ]
  },
  {
   "cell_type": "code",
   "execution_count": 50,
   "id": "4a2db422",
   "metadata": {},
   "outputs": [],
   "source": [
    "prompt = PromptTemplate(\n",
    "    input_variables=[\"documents\", \"query\"],\n",
    "    template=prompt_template\n",
    ")"
   ]
  },
  {
   "cell_type": "markdown",
   "id": "aeaef017",
   "metadata": {},
   "source": [
    "### Set Up LLMs and Chains\n",
    "Instantiate both a local (Ollama) and an online (Together API) language model, and set up LLM chains for answer generation."
   ]
  },
  {
   "cell_type": "code",
   "execution_count": 51,
   "id": "a309d2aa",
   "metadata": {},
   "outputs": [],
   "source": [
    "llama3 = OllamaLLM(model=\"llama3\")"
   ]
  },
  {
   "cell_type": "code",
   "execution_count": 52,
   "id": "65c031b2",
   "metadata": {},
   "outputs": [],
   "source": [
    "load_dotenv()\n",
    "\n",
    "api_key = os.getenv(\"TOGETHER_API_KEY\")\n",
    "\n",
    "online_llm = ChatOpenAI(\n",
    "    model=\"meta-llama/Llama-Vision-Free\",\n",
    "    api_key=api_key,\n",
    "    base_url=\"https://api.together.xyz/v1\",\n",
    "    temperature=0\n",
    ")"
   ]
  },
  {
   "cell_type": "markdown",
   "id": "f2cea21d",
   "metadata": {},
   "source": [
    "### Generate Answers Using LLMs\n",
    "Run both the online and local LLM chains to generate answers to the user query based on the retrieved context."
   ]
  },
  {
   "cell_type": "code",
   "execution_count": 53,
   "id": "e342419d",
   "metadata": {},
   "outputs": [],
   "source": [
    "online_llm_chain = prompt | online_llm\n",
    "\n",
    "\n",
    "# This took 2 s to generate summary\n",
    "online_llm_summary = online_llm_chain.invoke(\n",
    "    {\n",
    "        \"documents\": combined_docs_text,\n",
    "        \"query\": query\n",
    "    }\n",
    ").content"
   ]
  },
  {
   "cell_type": "code",
   "execution_count": 54,
   "id": "7a334338",
   "metadata": {},
   "outputs": [],
   "source": [
    "# llama3_chain = prompt | llama3\n",
    "\n",
    "# #local model-  this took 10m to generate summary\n",
    "# llama3_summary = llama3_chain.invoke(\n",
    "#     {\n",
    "#         \"documents\": combined_docs_text,\n",
    "#         \"query\": query\n",
    "#     }\n",
    "# )"
   ]
  },
  {
   "cell_type": "code",
   "execution_count": 55,
   "id": "aca206f2",
   "metadata": {},
   "outputs": [],
   "source": [
    "# no_rag_summary = online_llm.invoke(query).content"
   ]
  },
  {
   "cell_type": "markdown",
   "id": "fa5c912f",
   "metadata": {},
   "source": [
    "### Output and Compare Results\n",
    "Display the answers generated by both the online and local LLMs for comparison."
   ]
  },
  {
   "cell_type": "code",
   "execution_count": 56,
   "id": "d555645f",
   "metadata": {},
   "outputs": [],
   "source": [
    "# print(no_rag_summary)"
   ]
  },
  {
   "cell_type": "code",
   "execution_count": 57,
   "id": "1153359e",
   "metadata": {},
   "outputs": [
    {
     "name": "stdout",
     "output_type": "stream",
     "text": [
      "To apply for an OPT (Optional Practical Training) extension, you must properly file:\n",
      "\n",
      "1. Form I-765 with:\n",
      "\t* The correct application fee\n",
      "\t* Your employer's name as listed in E-Verify\n",
      "\t* Your employer's E-Verify Company Identification Number or valid E-Verify Client Company Identification Number\n",
      "2. Form I-20, Certificate of Eligibility for Nonimmigrant Student Status, endorsed by your DSO within the last 60 days\n",
      "3. A copy of your STEM degree\n",
      "\n",
      "Additionally, if you file your STEM OPT extension application on time and your OPT period expires while your extension application is pending, you will automatically receive an 180-day extension of your employment authorization.\n"
     ]
    }
   ],
   "source": [
    "print(online_llm_summary)"
   ]
  },
  {
   "cell_type": "code",
   "execution_count": 58,
   "id": "c1716328",
   "metadata": {},
   "outputs": [],
   "source": [
    "# print(llama3_summary)"
   ]
  },
  {
   "cell_type": "code",
   "execution_count": null,
   "id": "f78889a3",
   "metadata": {},
   "outputs": [],
   "source": []
  },
  {
   "cell_type": "code",
   "execution_count": null,
   "id": "e3f8007b",
   "metadata": {},
   "outputs": [],
   "source": []
  }
 ],
 "metadata": {
  "kernelspec": {
   "display_name": "venv",
   "language": "python",
   "name": "python3"
  },
  "language_info": {
   "codemirror_mode": {
    "name": "ipython",
    "version": 3
   },
   "file_extension": ".py",
   "mimetype": "text/x-python",
   "name": "python",
   "nbconvert_exporter": "python",
   "pygments_lexer": "ipython3",
   "version": "3.11.4"
  }
 },
 "nbformat": 4,
 "nbformat_minor": 5
}
