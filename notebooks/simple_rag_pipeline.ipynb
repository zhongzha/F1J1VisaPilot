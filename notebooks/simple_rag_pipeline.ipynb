{
 "cells": [
  {
   "cell_type": "markdown",
   "id": "392e02be",
   "metadata": {},
   "source": [
    "# Simple RAG Pipeline for STEM OPT Document\n",
    "This notebook demonstrates a simple Retrieval-Augmented Generation (RAG) workflow using LangChain, FAISS, and LLMs to answer questions about the STEM OPT extension process. Each section is annotated for clarity."
   ]
  },
  {
   "cell_type": "code",
   "execution_count": 2,
   "id": "8e238138",
   "metadata": {},
   "outputs": [],
   "source": [
    "from bs4 import BeautifulSoup\n",
    "\n",
    "from langchain.docstore.document import Document\n",
    "from langchain_huggingface import HuggingFaceEmbeddings\n",
    "from langchain.vectorstores import FAISS\n",
    "from langchain.prompts import PromptTemplate\n",
    "from langchain.chains import LLMChain\n",
    "from langchain_ollama import OllamaLLM\n",
    "from langchain_openai import ChatOpenAI\n",
    "\n",
    "from dotenv import load_dotenv\n",
    "import os\n"
   ]
  },
  {
   "cell_type": "markdown",
   "id": "4adf5b17",
   "metadata": {},
   "source": [
    "## Load and Parse the STEM OPT HTML Document\n",
    "Read the USCIS STEM OPT extension HTML file and extract its content using BeautifulSoup for further processing."
   ]
  },
  {
   "cell_type": "code",
   "execution_count": 3,
   "id": "b4b4bd69",
   "metadata": {},
   "outputs": [],
   "source": [
    "\n",
    "with open(\"../data/documents/Optional Practical Training Extension for STEM Students (STEM OPT) _ USCIS.html\", \"r\", encoding=\"utf-8\") as f:\n",
    "    html = f.read()\n",
    "\n",
    "# Parse HTML and extract text\n",
    "soup = BeautifulSoup(html, \"html.parser\")"
   ]
  },
  {
   "cell_type": "markdown",
   "id": "84daab46",
   "metadata": {},
   "source": [
    "### Extract Relevant Content\n",
    "Identify and extract the main content panels from the HTML using their CSS class."
   ]
  },
  {
   "cell_type": "code",
   "execution_count": 4,
   "id": "4a56062b",
   "metadata": {},
   "outputs": [],
   "source": [
    "panels = soup.find_all(class_=\"accordion__panel\")"
   ]
  },
  {
   "cell_type": "code",
   "execution_count": 5,
   "id": "3bb2cbbe",
   "metadata": {},
   "outputs": [],
   "source": [
    "texts = [panel.get_text(separator=\"\\n\", strip=True) for panel in panels]\n",
    "combined_text = \"\\n\\n\".join(texts)"
   ]
  },
  {
   "cell_type": "markdown",
   "id": "f1a8f735",
   "metadata": {},
   "source": [
    "### Chunk the Extracted Text\n",
    "Split the combined text into smaller chunks to fit within the token limits of embedding models and LLMs."
   ]
  },
  {
   "cell_type": "code",
   "execution_count": 6,
   "id": "f94e0e16",
   "metadata": {},
   "outputs": [],
   "source": [
    "def chunk_text(text, max_tokens=500, separator=\"\\n\\n\"):\n",
    "    \n",
    "    # Split by paragraphs (double newlines)\n",
    "    paragraphs = text.split(separator)\n",
    "    print(paragraphs)\n",
    "    \n",
    "    chunks = []\n",
    "    current_chunk = \"\"\n",
    "\n",
    "    for para in paragraphs:\n",
    "        if len(current_chunk) + len(para) < max_tokens:\n",
    "            current_chunk += para + separator\n",
    "        else:\n",
    "            chunks.append(current_chunk.strip())\n",
    "            current_chunk = para + separator\n",
    "\n",
    "    if current_chunk:\n",
    "        chunks.append(current_chunk.strip())\n",
    "\n",
    "    return chunks"
   ]
  },
  {
   "cell_type": "code",
   "execution_count": null,
   "id": "307589e0",
   "metadata": {},
   "outputs": [],
   "source": [
    "chunks = chunk_text(combined_text, max_tokens=200)  # adjust size as needed"
   ]
  },
  {
   "cell_type": "code",
   "execution_count": 8,
   "id": "c2170725",
   "metadata": {},
   "outputs": [
    {
     "name": "stdout",
     "output_type": "stream",
     "text": [
      "Created 5 chunks.\n"
     ]
    }
   ],
   "source": [
    "print(f\"Created {len(chunks)} chunks.\")"
   ]
  },
  {
   "cell_type": "markdown",
   "id": "1dcb66f0",
   "metadata": {},
   "source": [
    "### Create Document Objects\n",
    "Convert each text chunk into a LangChain `Document` object for downstream processing."
   ]
  },
  {
   "cell_type": "code",
   "execution_count": 9,
   "id": "6d2040f8",
   "metadata": {},
   "outputs": [],
   "source": [
    "documents = [Document(page_content=chunk) for chunk in chunks]"
   ]
  },
  {
   "cell_type": "markdown",
   "id": "b7c1ac83",
   "metadata": {},
   "source": [
    "### Embed Documents and Build Vector Store\n",
    "Generate embeddings for each document chunk and store them in a FAISS vector database for efficient retrieval."
   ]
  },
  {
   "cell_type": "code",
   "execution_count": 10,
   "id": "792c51f2",
   "metadata": {},
   "outputs": [],
   "source": [
    "embedding_model = HuggingFaceEmbeddings(model_name=\"multi-qa-MiniLM-L6-cos-v1\")"
   ]
  },
  {
   "cell_type": "code",
   "execution_count": 11,
   "id": "48adeae4",
   "metadata": {},
   "outputs": [],
   "source": [
    "vectorstore = FAISS.from_documents(documents, embedding_model)"
   ]
  },
  {
   "cell_type": "markdown",
   "id": "bb6fc378",
   "metadata": {},
   "source": [
    "### Retrieve Relevant Chunks for a Query\n",
    "Set up a retriever from the vector store and use it to fetch the most relevant document chunks for a sample user query."
   ]
  },
  {
   "cell_type": "code",
   "execution_count": 12,
   "id": "edd02a9a",
   "metadata": {},
   "outputs": [],
   "source": [
    "retriever = vectorstore.as_retriever()\n",
    "query = \"what's the process for applying OPT?\"\n"
   ]
  },
  {
   "cell_type": "code",
   "execution_count": 13,
   "id": "516e826d",
   "metadata": {},
   "outputs": [],
   "source": [
    "retrieved_docs = retriever.invoke(query)"
   ]
  },
  {
   "cell_type": "code",
   "execution_count": 14,
   "id": "d141d529",
   "metadata": {},
   "outputs": [
    {
     "name": "stdout",
     "output_type": "stream",
     "text": [
      "4 docs retrieved\n"
     ]
    }
   ],
   "source": [
    "print(f\"{len(retrieved_docs)} docs retrieved\")"
   ]
  },
  {
   "cell_type": "markdown",
   "id": "233947f8",
   "metadata": {},
   "source": [
    "### Prepare Retrieved Content for LLM\n",
    "Combine the retrieved document chunks into a single context string to be used as input for the language model."
   ]
  },
  {
   "cell_type": "code",
   "execution_count": 15,
   "id": "1824f359",
   "metadata": {},
   "outputs": [],
   "source": [
    "combined_docs_text = \"\\n\\n\".join([doc.page_content for doc in retrieved_docs])"
   ]
  },
  {
   "cell_type": "markdown",
   "id": "1d8650aa",
   "metadata": {},
   "source": [
    "### Construct the Prompt for the LLM\n",
    "Create a prompt template that provides the retrieved context and user query to the language model for answer generation."
   ]
  },
  {
   "cell_type": "code",
   "execution_count": 16,
   "id": "cb844a70",
   "metadata": {},
   "outputs": [],
   "source": [
    "prompt_template = \"\"\"\n",
    "You are an expert assistant. Use the context below to answer the user's question.\n",
    "Do NOT include any internal thoughts or explanations.\n",
    "\n",
    "Context:\n",
    "{documents}\n",
    "\n",
    "User Question:\n",
    "{query}\n",
    "\n",
    "Answer:\n",
    "\"\"\""
   ]
  },
  {
   "cell_type": "code",
   "execution_count": 17,
   "id": "4a2db422",
   "metadata": {},
   "outputs": [],
   "source": [
    "prompt = PromptTemplate(\n",
    "    input_variables=[\"documents\", \"query\"],\n",
    "    template=prompt_template\n",
    ")"
   ]
  },
  {
   "cell_type": "markdown",
   "id": "aeaef017",
   "metadata": {},
   "source": [
    "### Set Up LLMs and Chains\n",
    "Instantiate both a local (Ollama) and an online (Together API) language model, and set up LLM chains for answer generation."
   ]
  },
  {
   "cell_type": "code",
   "execution_count": 18,
   "id": "a309d2aa",
   "metadata": {},
   "outputs": [],
   "source": [
    "llama3 = OllamaLLM(model=\"llama3\")"
   ]
  },
  {
   "cell_type": "code",
   "execution_count": 19,
   "id": "65c031b2",
   "metadata": {},
   "outputs": [],
   "source": [
    "load_dotenv()\n",
    "\n",
    "api_key = os.getenv(\"TOGETHER_API_KEY\")\n",
    "\n",
    "online_llm = ChatOpenAI(\n",
    "    model=\"meta-llama/Llama-Vision-Free\",\n",
    "    api_key=api_key,\n",
    "    base_url=\"https://api.together.xyz/v1\",\n",
    "    temperature=0\n",
    ")"
   ]
  },
  {
   "cell_type": "markdown",
   "id": "f2cea21d",
   "metadata": {},
   "source": [
    "### Generate Answers Using LLMs\n",
    "Run both the online and local LLM chains to generate answers to the user query based on the retrieved context."
   ]
  },
  {
   "cell_type": "code",
   "execution_count": 25,
   "id": "e342419d",
   "metadata": {},
   "outputs": [],
   "source": [
    "online_llm_chain = prompt | online_llm\n",
    "\n",
    "\n",
    "# This took 2 s to generate summary\n",
    "online_llm_summary = online_llm_chain.invoke(\n",
    "    {\n",
    "        \"documents\": combined_docs_text,\n",
    "        \"query\": query\n",
    "    }\n",
    ").content"
   ]
  },
  {
   "cell_type": "code",
   "execution_count": 28,
   "id": "7a334338",
   "metadata": {},
   "outputs": [],
   "source": [
    "llama3_chain = prompt | llama3\n",
    "\n",
    "#local model-  this took 10m to generate summary\n",
    "llama3_summary = llama3_chain.invoke(\n",
    "    {\n",
    "        \"documents\": combined_docs_text,\n",
    "        \"query\": query\n",
    "    }\n",
    ")"
   ]
  },
  {
   "cell_type": "code",
   "execution_count": 33,
   "id": "aca206f2",
   "metadata": {},
   "outputs": [],
   "source": [
    "no_rag_summary = online_llm.invoke(query).content"
   ]
  },
  {
   "cell_type": "markdown",
   "id": "fa5c912f",
   "metadata": {},
   "source": [
    "### Output and Compare Results\n",
    "Display the answers generated by both the online and local LLMs for comparison."
   ]
  },
  {
   "cell_type": "code",
   "execution_count": 34,
   "id": "d555645f",
   "metadata": {},
   "outputs": [
    {
     "name": "stdout",
     "output_type": "stream",
     "text": [
      "OPT (Optional Practical Training) is a type of work authorization for international students in the United States. Here's a step-by-step guide to the OPT application process:\n",
      "\n",
      "**Eligibility:**\n",
      "\n",
      "Before applying for OPT, make sure you meet the eligibility criteria:\n",
      "\n",
      "1. You must be a F-1 student in good standing.\n",
      "2. You must have completed at least one academic year of study.\n",
      "3. You must have a valid I-20 form from your school.\n",
      "\n",
      "**Preparation:**\n",
      "\n",
      "1. **Check your eligibility**: Verify that you meet the eligibility criteria.\n",
      "2. **Gather required documents**: You'll need:\n",
      "\t* A valid passport\n",
      "\t* A copy of your I-20 form\n",
      "\t* A copy of your F-1 visa (if applicable)\n",
      "\t* Proof of completion of at least one academic year of study (e.g., transcript, diploma)\n",
      "\t* Proof of employment (if you have a job offer)\n",
      "3. **Choose your OPT start date**: You can choose one of two start dates:\n",
      "\t* Post-completion OPT: Start date is 90 days after your program completion date.\n",
      "\t* Pre-completion OPT: Start date is the date you begin your internship or job.\n",
      "\n",
      "**Application Process:**\n",
      "\n",
      "1. **Submit Form I-765**: Complete and submit Form I-765, Application for Employment Authorization, to U.S. Citizenship and Immigration Services (USCIS).\n",
      "2. **Pay the application fee**: The current fee is $410.\n",
      "3. **Submit supporting documents**: Include the required documents listed above.\n",
      "4. **Submit the application**: Mail the application to the USCIS address listed on the form.\n",
      "\n",
      "**After Submitting the Application:**\n",
      "\n",
      "1. **Wait for processing**: USCIS will review your application and may request additional information.\n",
      "2. **Receive an EAD card**: If your application is approved, you'll receive an Employment Authorization Document (EAD) card, which is valid for 12 months.\n",
      "3. **Update your I-20**: Your school will update your I-20 form to reflect your OPT start and end dates.\n",
      "\n",
      "**Tips and Reminders:**\n",
      "\n",
      "* Apply for OPT as soon as possible after completing your program or before starting your internship or job.\n",
      "* Make sure to keep your I-20 form and EAD card up to date.\n",
      "* You can only apply for OPT once per degree level (e.g., bachelor's, master's, Ph.D.).\n",
      "* You must report any changes in your address or employment to USCIS and your school.\n",
      "\n",
      "**Post-Completion OPT:**\n",
      "\n",
      "If you're applying for post-completion OPT, you'll need to:\n",
      "\n",
      "1. **Complete your program**: Finish your academic program.\n",
      "2. **Apply for OPT**: Submit your application within 60 days of program completion.\n",
      "3. **Start your OPT**: Begin your OPT within 90 days of program completion.\n",
      "\n",
      "**Pre-Completion OPT:**\n",
      "\n",
      "If you're applying for pre-completion OPT, you'll need to:\n",
      "\n",
      "1. **Have a job offer**: Secure a job or internship.\n",
      "2. **Apply for OPT**: Submit your application before starting your internship or job.\n",
      "3. **Start your OPT**: Begin your OPT on the date you start your internship or job.\n",
      "\n",
      "Remember to check the USCIS website for the most up-to-date information and to consult with your school's international student office if you have any questions or concerns.\n"
     ]
    }
   ],
   "source": [
    "print(no_rag_summary)"
   ]
  },
  {
   "cell_type": "code",
   "execution_count": 30,
   "id": "1153359e",
   "metadata": {},
   "outputs": [
    {
     "name": "stdout",
     "output_type": "stream",
     "text": [
      "To apply for an OPT (Optional Practical Training) extension, you must properly file:\n",
      "\n",
      "1. Form I-765 with:\n",
      "\t* The correct application fee\n",
      "\t* Your employer's name as listed in E-Verify\n",
      "\t* Your employer's E-Verify Company Identification Number or valid E-Verify Client Company Identification Number\n",
      "2. Form I-20, Certificate of Eligibility for Nonimmigrant Student Status, endorsed by your DSO within the last 60 days\n",
      "3. A copy of your STEM degree\n",
      "\n",
      "Additionally, if you file your STEM OPT extension application on time and your OPT period expires while your extension application is pending, you will automatically receive an 180-day extension of your employment authorization.\n"
     ]
    }
   ],
   "source": [
    "print(online_llm_summary)"
   ]
  },
  {
   "cell_type": "code",
   "execution_count": 31,
   "id": "c1716328",
   "metadata": {},
   "outputs": [
    {
     "name": "stdout",
     "output_type": "stream",
     "text": [
      "To apply for an OPT (Optional Practical Training), you must properly file:\n",
      "\n",
      "1. Form I-765 with:\n",
      "\t* The correct application fee;\n",
      "\t* Your employer’s name as listed in E-Verify, and\n",
      "\t* Your employer’s E-Verify Company Identification Number or valid E-Verify Client Company Identification Number\n",
      "2. Form I-20, Certificate of Eligibility for Nonimmigrant Student Status, endorsed by your DSO (Designated School Official) within the last 60 days;\n",
      "3. A copy of your STEM degree.\n",
      "\n",
      "Additionally, if you file your OPT extension application on time and your OPT period expires while your extension application is pending, USCIS will automatically extend your employment authorization for 180 days. This automatic 180-day extension ceases once USCIS adjudicates your OPT extension application.\n"
     ]
    }
   ],
   "source": [
    "print(llama3_summary)"
   ]
  },
  {
   "cell_type": "code",
   "execution_count": null,
   "id": "f78889a3",
   "metadata": {},
   "outputs": [],
   "source": []
  },
  {
   "cell_type": "code",
   "execution_count": null,
   "id": "e3f8007b",
   "metadata": {},
   "outputs": [],
   "source": []
  }
 ],
 "metadata": {
  "kernelspec": {
   "display_name": "venv",
   "language": "python",
   "name": "python3"
  },
  "language_info": {
   "codemirror_mode": {
    "name": "ipython",
    "version": 3
   },
   "file_extension": ".py",
   "mimetype": "text/x-python",
   "name": "python",
   "nbconvert_exporter": "python",
   "pygments_lexer": "ipython3",
   "version": "3.11.4"
  }
 },
 "nbformat": 4,
 "nbformat_minor": 5
}
