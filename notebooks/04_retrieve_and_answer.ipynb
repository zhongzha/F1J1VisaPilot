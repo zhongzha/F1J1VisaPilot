{
 "cells": [
  {
   "cell_type": "code",
   "execution_count": 1,
   "id": "200a6980",
   "metadata": {},
   "outputs": [],
   "source": [
    "from langchain.prompts import PromptTemplate\n",
    "from langchain.chains import LLMChain\n",
    "from langchain_openai import ChatOpenAI\n",
    "\n",
    "from langchain.vectorstores import FAISS\n",
    "from langchain.embeddings import HuggingFaceEmbeddings\n",
    "\n",
    "from dotenv import load_dotenv\n",
    "import os"
   ]
  },
  {
   "cell_type": "code",
   "execution_count": 2,
   "id": "a293a384",
   "metadata": {},
   "outputs": [
    {
     "name": "stderr",
     "output_type": "stream",
     "text": [
      "C:\\Users\\zhong\\AppData\\Local\\Temp\\ipykernel_17576\\4034726174.py:2: LangChainDeprecationWarning: The class `HuggingFaceEmbeddings` was deprecated in LangChain 0.2.2 and will be removed in 1.0. An updated version of the class exists in the :class:`~langchain-huggingface package and should be used instead. To use it run `pip install -U :class:`~langchain-huggingface` and import as `from :class:`~langchain_huggingface import HuggingFaceEmbeddings``.\n",
      "  embedding_model = HuggingFaceEmbeddings(model_name=\"multi-qa-MiniLM-L6-cos-v1\")\n"
     ]
    }
   ],
   "source": [
    "# using the same model as in the embedding step\n",
    "embedding_model = HuggingFaceEmbeddings(model_name=\"multi-qa-MiniLM-L6-cos-v1\")"
   ]
  },
  {
   "cell_type": "code",
   "execution_count": 5,
   "id": "e250d332",
   "metadata": {},
   "outputs": [],
   "source": [
    "# Load FAISS vector store from saved index\n",
    "index_path = \"../vectorstore/faiss_index\"\n",
    "\n",
    "vectorstore = FAISS.load_local(\n",
    "    folder_path=\"../vectorstore/faiss_index\",\n",
    "    embeddings=embedding_model,\n",
    "    allow_dangerous_deserialization=True  # ✅ only if you trust the file!\n",
    ")"
   ]
  },
  {
   "cell_type": "code",
   "execution_count": 6,
   "id": "92e75922",
   "metadata": {},
   "outputs": [],
   "source": [
    "retriever = vectorstore.as_retriever()"
   ]
  },
  {
   "cell_type": "markdown",
   "id": "6337fdd1",
   "metadata": {},
   "source": [
    "### Run a query"
   ]
  },
  {
   "cell_type": "code",
   "execution_count": 164,
   "id": "5ad6c253",
   "metadata": {},
   "outputs": [],
   "source": [
    "# query = \"What's OPT? What's the process for applying one?\"\n",
    "\n",
    "# query = \"can I re-enter US after visiting Canada on F1 visa?\"\n",
    "\n",
    "# query = \"my ead card starts in february 2025, when are my reports due?\"\n",
    "\n",
    "query = \"what is the process for switching from F1 to H1B visa? what should I summit to USCIS and OIE for this?\""
   ]
  },
  {
   "cell_type": "code",
   "execution_count": 165,
   "id": "cc017492",
   "metadata": {},
   "outputs": [],
   "source": [
    "load_dotenv()\n",
    "api_key = os.getenv(\"TOGETHER_API_KEY\")"
   ]
  },
  {
   "cell_type": "code",
   "execution_count": 166,
   "id": "c0dc8ee4",
   "metadata": {},
   "outputs": [],
   "source": [
    "retrieved_docs = retriever.invoke(query)"
   ]
  },
  {
   "cell_type": "code",
   "execution_count": 167,
   "id": "69d1b021",
   "metadata": {},
   "outputs": [
    {
     "name": "stdout",
     "output_type": "stream",
     "text": [
      "4 docs retrieved\n"
     ]
    }
   ],
   "source": [
    "print(f\"{len(retrieved_docs)} docs retrieved\")"
   ]
  },
  {
   "cell_type": "code",
   "execution_count": 168,
   "id": "701261e0",
   "metadata": {},
   "outputs": [
    {
     "data": {
      "text/plain": [
       "[Document(id='5570162a-de77-4a04-817b-ce7981603560', metadata={'source': 'html_oie_employment_resources_f1-to-h1b-status.txt'}, page_content='Report Change of Status from F-1 to H-1B\\nIf you have changed your status from F-1 to H-1B, you must provide specific documentation to OIE by submitting the \"\\nChange of Status from F-1 (OPT/STEM OPT)\\n\" e-Form on the\\nMyOIE portal\\n.\\nIf you were approved for H-1B as a change of status, please provide scanned copies of the following:\\nH-1B Approval Notice (I-797A)\\nSTEM OPT final Evaluation, found on Page 5 of the I-983 (for students on the 24-month STEM OPT only)\\nIf you were approved for H-1B by consular processing, please provide scanned copies of the following:\\nH-1B Approval Notice (I-797B)\\nEAD card\\nMost recent I-94 reflecting your entry as H-1B\\nSTEM OPT Final Evaluation, found on Page 5 of the\\nI-983\\n(for students on the 24-month STEM OPT only)\\nThese materials are\\ndue within 10 days of your\\xa0H-1B status start date and must be submitted in the\\nMyOIE portal\\n. You can find the e-Form \"Change of Status from F-1 (OPT/STEM OPT) located under the \"biographical information section\" after you have logged into the limited services section of the portal.\\nPlease note that your reporting requirements to OIE remain until the start of your H-1B status. After that date, you no longer need to submit any updates to OIE, but be sure to keep all immigration documents (I-20s, EAD cards, etc).\\nExample:\\nIf your status changed to H-1B on October 1, then your reporting requirements to OIE for F-1 status remained through September 30.\\nMyOIE Portal\\nQuick Links:\\nReplacement EAD Card\\nFrequently Asked Questions\\nContact Us'),\n",
       " Document(id='ba039dd2-2513-440e-a89f-752a80ca8aed', metadata={'source': 'pdf_oie_docs_power-points_stem-opt-slides.txt'}, page_content='Options After STEM OPT\\nH-1B Temporary Work Visa\\n• Private Sector: H-1B effective start date is Oct 1st. The H-1B “CAP” or quota is 65,000 annually, available to employers April 1st,\\nplus 20,000 additional H-1B spaces for advanced degree holders.\\n• Universities and Non-Profits: Not subject to Cap and can apply at any time for any start date.\\nCap-Gap Extension\\n• Cap-Gap Extension extends an eligible F-1 student\\'s status to bridge the gap between the end of their F-1 status and the start of\\nH-1B status, allowing the student to remain in the U.S. during the \"gap“ and continue working (if on active OPT/STEM OPT). The\\ncap-gap extension is available to students who were either on approved OPT/STEM OPT or in their F-1 60-day grace period when\\ntheir H-1B was filed and have a pendingor approvedChange-of-Status H-1B Petition with USCIS.\\nTo apply for a Cap-Gap Extension I-20,youMUST:\\n• Submit a Cap-Gap Extension e-Form Request to OIE. Directions on our website.\\n• You can also reviewthe OIE Cap-Gap FAQ handout for additional information.\\nGAP IN EMPLOYMENT AUTHORIZATION\\n51\\nOnce you receive your H-1B approval, submit\\nthe Change of Status E-Form in MyOIE!\\n\\nAgenda\\nChanging Your F-1 Status During STEM OPT\\n• YouMUSTupdate OIE once you have an approved Change of Status (COS).\\n• It could be for an H-1B, O-1, etc., but OIE will need a copy of the COS I-797\\nPaper Approval Notice from your employer/USCIS within10 days after your new\\nstatus starts!\\nLog into the MyOIE Portal and under the Biographical\\nInformation menu, submit the “Change of Status from F-1\\n(OPT/STEM OPT) e-Form.\\nThis form requires:\\n1. Approval Notice (I-797)\\n2. Completed Final Evaluation (page 5) of the I-983 Form\\nHave additional questions about reporting requirements?\\n• Visit the OIE website\\n52'),\n",
       " Document(id='2c040f45-7812-447b-8d39-3d0f8c67d079', metadata={'source': 'html_oie_employment_f1-students_opt-stem-opt-extension_h1b-cap-gap-extension.txt'}, page_content='Travel During Cap-Gap Extension\\nU.S. Department of Homeland Security (DHS) has clarified that a student can generally travel abroad and seek re-entry to the United States in F-1 status during a period of cap-gap extension so long as these three conditions are met:\\nYour H-1B petition and request for a change of status have been approved.\\nYou seek readmission before your H-1B employment begins (normally at the beginning of the fiscal year - October 1).\\nYou are otherwise admissible. However, as with any other instance in which you seek admission to the U.S., admissibility is determined when you apply for admission at a port of entry.\\nNote:\\nTraveling outside the U.S. may interfere with the processing of your H-1B petition. You need to consult with your employer regarding all travel plans before departing the U.S. If you must travel during the extension period and are not able to return on your F-1 visa, consult with the attorney that filed the H-1B petition, and be prepared to apply for an H-1B visa outside the U.S. and adjust your return travel plans accordingly. Under H-1B regulations, you may only enter the U.S. up to ten days before October 1.\\n\\nAcademic Calendar\\nContact OIE\\nFrequently Asked Questions (FAQs)\\nMyOIE Portal\\nStudent Information Online (SIO)\\nThe HUB Student Service Center'),\n",
       " Document(id='c81e1278-9c4b-4fb2-a126-edbf7cea9405', metadata={'source': 'html_oie_employment_f1-students_opt-stem-opt-extension_h1b-cap-gap-extension.txt'}, page_content='must continue to update your employer information.\\n\\nTravel During Cap-Gap Extension\\nU.S. Department of Homeland Security (DHS) has clarified that a student can generally travel abroad and seek re-entry to the United States in F-1 status during a period of cap-gap extension so long as these three conditions are met:\\nYour H-1B petition and request for a change of status have been approved.\\nYou seek readmission before your H-1B employment begins (normally at the beginning of the fiscal year - October 1).\\nYou are otherwise admissible. However, as with any other instance in which you seek admission to the U.S., admissibility is determined when you apply for admission at a port of entry.\\nNote:\\nTraveling outside the U.S. may interfere with the processing of your H-1B petition. You need to consult with your employer regarding all travel plans before departing the U.S. If you must travel during the extension period and are not able to return on your F-1 visa, consult with the attorney that filed the H-1B petition, and be prepared to apply for an H-1B visa outside the U.S. and adjust your return travel plans accordingly. Under H-1B regulations, you may only enter the U.S. up to ten days before October 1.')]"
      ]
     },
     "execution_count": 168,
     "metadata": {},
     "output_type": "execute_result"
    }
   ],
   "source": [
    "retrieved_docs"
   ]
  },
  {
   "cell_type": "code",
   "execution_count": 169,
   "id": "2bc16f93",
   "metadata": {},
   "outputs": [],
   "source": [
    "combined_docs_text = \"\\n\\n\".join([doc.page_content for doc in retrieved_docs])"
   ]
  },
  {
   "cell_type": "code",
   "execution_count": 170,
   "id": "922613b2",
   "metadata": {},
   "outputs": [],
   "source": [
    "prompt_template = \"\"\"\n",
    "You are an expert assistant. Use the context below to answer the user's question.\n",
    "Do NOT include any internal thoughts or explanations.\n",
    "\n",
    "Context:\n",
    "{documents}\n",
    "\n",
    "User Question:\n",
    "{query}\n",
    "\n",
    "Answer:\n",
    "\"\"\""
   ]
  },
  {
   "cell_type": "code",
   "execution_count": 171,
   "id": "8c467c35",
   "metadata": {},
   "outputs": [],
   "source": [
    "prompt = PromptTemplate(\n",
    "    input_variables=[\"documents\", \"query\"],\n",
    "    template=prompt_template\n",
    ")"
   ]
  },
  {
   "cell_type": "code",
   "execution_count": 172,
   "id": "7a094a31",
   "metadata": {},
   "outputs": [],
   "source": [
    "online_llm = ChatOpenAI(\n",
    "    model=\"meta-llama/Llama-Vision-Free\",\n",
    "    api_key=api_key,\n",
    "    base_url=\"https://api.together.xyz/v1\",\n",
    "    temperature=0\n",
    ")"
   ]
  },
  {
   "cell_type": "code",
   "execution_count": 173,
   "id": "d9f8836f",
   "metadata": {},
   "outputs": [],
   "source": [
    "online_llm_chain = prompt | online_llm\n",
    "\n",
    "\n",
    "# This took 2 s to generate summary\n",
    "online_llm_summary = online_llm_chain.invoke(\n",
    "    {\n",
    "        \"documents\": combined_docs_text,\n",
    "        \"query\": query\n",
    "    }\n",
    ").content"
   ]
  },
  {
   "cell_type": "code",
   "execution_count": 174,
   "id": "14b4d19b",
   "metadata": {},
   "outputs": [
    {
     "name": "stdout",
     "output_type": "stream",
     "text": [
      "To switch from F-1 to H-1B visa, you must submit the following documents to USCIS and OIE:\n",
      "\n",
      "**To USCIS:**\n",
      "\n",
      "* H-1B petition with supporting documents, including:\n",
      "\t+ H-1B Approval Notice (I-797A or I-797B)\n",
      "\t+ EAD card (if applicable)\n",
      "\t+ Most recent I-94 reflecting your entry as H-1B\n",
      "\t+ STEM OPT Final Evaluation, found on Page 5 of the I-983 (for students on the 24-month STEM OPT only)\n",
      "\n",
      "**To OIE:**\n",
      "\n",
      "* Submit the \"Change of Status from F-1 (OPT/STEM OPT)\" e-Form on the MyOIE portal, which requires:\n",
      "\t+ Approval Notice (I-797)\n",
      "\t+ Completed Final Evaluation (page 5) of the I-983 Form\n",
      "\n",
      "These materials are due within 10 days of your H-1B status start date.\n"
     ]
    }
   ],
   "source": [
    "print(online_llm_summary)"
   ]
  },
  {
   "cell_type": "code",
   "execution_count": null,
   "id": "0bf171d8",
   "metadata": {},
   "outputs": [],
   "source": []
  },
  {
   "cell_type": "code",
   "execution_count": null,
   "id": "81f1b485",
   "metadata": {},
   "outputs": [],
   "source": []
  }
 ],
 "metadata": {
  "kernelspec": {
   "display_name": "venv",
   "language": "python",
   "name": "python3"
  },
  "language_info": {
   "codemirror_mode": {
    "name": "ipython",
    "version": 3
   },
   "file_extension": ".py",
   "mimetype": "text/x-python",
   "name": "python",
   "nbconvert_exporter": "python",
   "pygments_lexer": "ipython3",
   "version": "3.11.4"
  }
 },
 "nbformat": 4,
 "nbformat_minor": 5
}
